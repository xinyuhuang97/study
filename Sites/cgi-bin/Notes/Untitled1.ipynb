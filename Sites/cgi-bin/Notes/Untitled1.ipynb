{
 "cells": [
  {
   "cell_type": "markdown",
   "metadata": {},
   "source": [
    "# L'architecture client serveur <br>\n",
    "<u>**DEF**</u> : consiste pour un programme client à envoyer à un serveur une requête exprimée dans un protocole de communication:<br>\n",
    "## PROTOCOLE<br>\n",
    "### **<u>HTTP</u>**\n",
    "<u>**DEF** </u><br>\n",
    "&nbsp;&nbsp;Hyper-Text-Transfert Protocol était destiné au départ ! fornir à un client un fichier écrire en Hyper-Text Markup Language et disponible sur le serveur HTTP\n",
    "    Ce service se généralisé, rendant le nom inexact.\n",
    "    Le client HTTP demande une ressource au serveur, qui répond:\n",
    "* <u>Programme</u> : le résultat du programme(serveur de calcul)\n",
    "* <u>Fichier</u> : le service s'apparente à un système de fichiers distant(Dans le cas d'une demande en lecture, le contenu du fichier est envoyé)\n",
    "\n",
    "### **<u>HTML</u>**\n",
    "<u>**DEF:HTML=SGML+Réseau**</u><br>\n",
    "&nbsp;&nbsp;HTML est un aliage de deux techniques:\n",
    "* Les protocoles textuels de communication(HTTP)\n",
    "* Le *Standardized General Markup Language*(SGML):\n",
    "  * Son but est de faciliter l'accès à une information précise\n",
    "  * Son fondement est de balisage(Markup) qui sépare en élément distinct une masse d'information.<br>\n",
    "\n",
    "<u>**Caractéristique des HTML**</u><br>\n",
    "* Le caractère réservé & permet de introduire les caractères réservés:\n",
    "    * Par leur code numérique(code ascci) &#38   \n",
    "    * Par leur noms définis dans la liste des entité:\n",
    "    \n",
    "| nom | EN | FR |\n",
    "| :--| :--:| --:|\n",
    "| &amp | ampersand | espèrluède |\n",
    "| &nbsp | no-break space |  |\n",
    "| &gt| greater than|  |\n",
    "\n",
    "* Un document HTML comporte:\n",
    "    * Un en-tête : méta-informations sur le document\n",
    "    * corps\n",
    "\n"
   ]
  },
  {
   "cell_type": "markdown",
   "metadata": {},
   "source": [
    "### **<u>XHTML</u>**\n",
    "<u>**DEF:XHTML**</u><br>\n",
    "&nbsp;&nbsp;XHTML est une transposition en syntaxe de HTML. Les deux sont égaux au niveau de fonctionnalité mais le syntaxe de XHTML est plus rigoureuse en XML.\n",
    "*  &lt;nom> &lt;/nom>\n",
    "    * Toute balise ouvrante doit être fermé\n",
    "    * Néanmoins s'abréger en &lt;nom> pour les balises toujours vides(saisie input)\n",
    "    ```\n",
    "    <input type='hidden' name='choix' value='$pays'/>;\n",
    "    ```\n",
    "    * L'attribut _name_ est réservé au nommage des saisies pour le serveur:"
   ]
  },
  {
   "cell_type": "markdown",
   "metadata": {},
   "source": [
    "<!DOCTYPE html PUBLIC '-//W3C//DTD XHTML 1.0 Strict//EN'\n",
    "  'http://www.w3.org/TR/xhtml1/DTD/xhtml1-strict.dtd'>\n",
    "  <html lang='en' xmlns:html='http://www.w3.org/1999/xhtml'>\n",
    "  <head>\n",
    "<meta http-equiv='Content-Type' content='text/html;charset=utf-8'/>\n",
    "  <title>hi</title>\n",
    "</head>\n",
    "    <form>\n",
    "        <label name='choix1'>same_name1</label>\n",
    "        <input type='radio' name='choix1' valule='A'><br>\n",
    "        <label name='choix1'>same_name2</label>\n",
    "        <input type='radio' name='choix1' valule='B'>\n",
    "    </form>    \n",
    "    <hr>\n",
    "    <form>\n",
    "        <label name='choix1'>different_name1</label>\n",
    "        <input type='radio' name='choix1' valule='A'><br>\n",
    "        <label name='choix1'>different_name2</label>\n",
    "        <input type='radio' name='choix2' valule='B'>\n",
    "    </form>\n",
    "    "
   ]
  },
  {
   "cell_type": "markdown",
   "metadata": {},
   "source": [
    "## <u>PHP</u><br>\n",
    "### <u>Techniques du bi-linguisme</u>\n",
    "* écriture aplatie <br>\n",
    "\n",
    "```\n",
    "echo \"Content-Type: text/html; charset=utf-8\";\n",
    "echo \"<html><head><title>test</title></head>\";\n",
    "echo \"<body>....\";\n",
    "echo \"</body></html>\";\n",
    "```\n",
    "\n",
    "* écriture coloniale<br>\n",
    "* écriture créole<br>\n",
    " * Entrelacement de textes à envoyer et les instruction à exécuter.<br>\n",
    " \n",
    " ```\n",
    " <html><head><title>minimal</title></head><body><br>\n",
    " <?php echo date(\"d M Y\") ?><br>\n",
    " </body></html><br>\n",
    " ```\n",
    " \n",
    "### <u>Types de données de PHP</u>\n",
    "\n",
    "|name|valeur|\n",
    "|:-|:-|\n",
    "|bool|true false|\n",
    "|int |smallint bigint(bcmaths)|\n",
    "|float||\n",
    "|char|\"char\" or 'char' y accéder par $a[3]|\n",
    "|tab|1)init by array |\n",
    "||2)valeur de tout type|\n",
    "||3)indexé par des crochets contenant des chaînes ou nombres|\n",
    "\n",
    "#### <u>Variables</u>\n",
    "* commence par \\\\$\n",
    "* affectation \n",
    " * \\\\$ nom=valeur (incrémentation ) <br>\n",
    " * list( \\\\$nom1,  \\\\$ nom2.......,\\\\$ nomN)=tab de longeur N\n",
    "* \\\\$nom[]= (valeur ajoute un élément au tableau)\n",
    "* *superglobales*\n",
    "   * \\\\$_SERVER \n",
    "   *  \\\\$_GET \\\\$_POST\n",
    "   * \\\\$_COOKIE\n",
    "\n",
    "#### <u>Constantes</u>\n",
    "* Tout symbole commence pas par \\\\$\n",
    "* definition une constante \n",
    "\n",
    "    ```\n",
    "    define('PI', 3.14);\n",
    "    ```\n",
    "    \n",
    "#### <u>Conversion de types</u>\n",
    "* == équivalence schémantique(value)<br>\n",
    "  === éauivalence syntaxique\n",
    "* L'écriture d'éléments de tableaux dans des guillemets est trompeuse\n",
    "* La concaténqtion se note avec un point:"
   ]
  },
  {
   "cell_type": "code",
   "execution_count": 35,
   "metadata": {},
   "outputs": [
    {
     "data": {
      "text/plain": [
       "un se note 1\n"
      ]
     },
     "execution_count": 35,
     "metadata": {},
     "output_type": "execute_result"
    }
   ],
   "source": [
    "$x='un';\n",
    "$y=1;\n",
    "echo $x.' se note '.$y;"
   ]
  },
  {
   "cell_type": "markdown",
   "metadata": {},
   "source": [
    "#### <u>Fonctions PHP sur tableaux</u>"
   ]
  },
  {
   "cell_type": "markdown",
   "metadata": {},
   "source": [
    "* <u>*count*</u> le nombre d'élément\n",
    "* <u>*is_array*</u> test su une valeur est un tableau\n",
    "* <u>*array_shift*</u> retourne le premier élément du tab est le retire du tableau, tandis que *array_unshift* en ajoute un\n",
    "* <u>*array_pop*</u> retourne le dernier élément du tableau et le retire du tableau, tandis que *array_push* en ajoute un\n",
    "* <u>*key*</u> retourne le premier index du tab\n",
    "* <u>*sort*</u> tiré le tableau selon différents modes\n",
    "* <u>*join*</u> construit une chaîne formée des éléments d'un tableau\n",
    "* <u>*array_map*</u> applique une fonction sur un tablequ et retourne le tableau des résultats"
   ]
  },
  {
   "cell_type": "code",
   "execution_count": 91,
   "metadata": {},
   "outputs": [
    {
     "data": {
      "text/plain": [
       "nb : 5\n"
      ]
     },
     "execution_count": 91,
     "metadata": {},
     "output_type": "execute_result"
    },
    {
     "data": {
      "text/plain": [
       "is array? true\n"
      ]
     },
     "execution_count": 91,
     "metadata": {},
     "output_type": "execute_result"
    },
    {
     "data": {
      "text/plain": [
       "nb : 4\n"
      ]
     },
     "execution_count": 91,
     "metadata": {},
     "output_type": "execute_result"
    },
    {
     "data": {
      "text/plain": [
       "first : 2\n"
      ]
     },
     "execution_count": 91,
     "metadata": {},
     "output_type": "execute_result"
    },
    {
     "data": {
      "text/plain": [
       "nb : 3\n"
      ]
     },
     "execution_count": 91,
     "metadata": {},
     "output_type": "execute_result"
    },
    {
     "data": {
      "text/plain": [
       "last : 2\n"
      ]
     },
     "execution_count": 91,
     "metadata": {},
     "output_type": "execute_result"
    },
    {
     "data": {
      "text/plain": [
       "first_key : 0\n"
      ]
     },
     "execution_count": 91,
     "metadata": {},
     "output_type": "execute_result"
    },
    {
     "data": {
      "text/plain": [
       "before sort :232\n"
      ]
     },
     "execution_count": 91,
     "metadata": {},
     "output_type": "execute_result"
    },
    {
     "data": {
      "text/plain": [
       "after sort : 223\n"
      ]
     },
     "execution_count": 91,
     "metadata": {},
     "output_type": "execute_result"
    }
   ],
   "source": [
    "$tab = array(1, 2, 3, 2, 1);\n",
    "list($a, $b, $c,)=$tab;\n",
    "echo \"nb : \".count($tab),\n",
    "     \"is array? \".((is_array($tab)==1)? \"true\":\"false\");\n",
    "array_shift($tab);\n",
    "echo \"nb : \".count($tab);\n",
    "echo \"first : \".$tab[0];\n",
    "array_pop($tab);\n",
    "echo \"nb : \".count($tab);\n",
    "echo \"last : \".$tab[count($tab)-1];\n",
    "echo \"first_key : \".key($tab);\n",
    "echo \"before sort :\".join($tab);\n",
    "sort($tab, SORT_NUMERIC);\n",
    "echo \"after sort : \".join($tab);\n",
    "//array_map(\"join\", $tab);"
   ]
  },
  {
   "cell_type": "markdown",
   "metadata": {},
   "source": [
    "#### <u>Fonctions PHP sur chaînes</u>\n",
    "* *strlen* : longueur de la chaîne\n",
    "* *substr* : sous-chaîne d'une chaîne\n",
    "* *str_replace* : remplacement d'uns sous-chaîne par une autre\n",
    "* *trim, ltrim, rtri* : retrait d'espaces autour de l'argument\n",
    "* *intval* : conversion numérériaue d'une chaîne\n",
    "* *is_numeric* :  teste si toute la chaîne représente un nombre\n",
    "* *strpos* : retourne la position dans son premier argument du caracère fourni en 2e argument"
   ]
  },
  {
   "cell_type": "markdown",
   "metadata": {},
   "source": [
    "### <u>RegExp</u>\n",
    "#### <u>Syntaxe des RegExp</u>\n",
    "Motif+Option:\n",
    "* option\n",
    "    * i : ne pas distinguer minuscules et majuscules\n",
    "    * s : assimile le saut de ligne à un espace\n",
    "#### <u>Caractère spéciaux</u> \n",
    "\n",
    "#### <u>Caractère génériaue</u>\n",
    "|char|meaning|\n",
    "|:-|:-|\n",
    "|\\w|alphanumérique|\n",
    "|\\W|non a-n|\n",
    "|\\d|numérique|\n",
    "|\\D|non numérique|\n",
    "|\\s|séparatuer|\n",
    "|\\S|non séparatuer|\n",
    "\n",
    "#### <u>Gourmandise</u>\n",
    "* greedy\n",
    "* ungreddy\n",
    "\n",
    "#### preg_match preg_match_all preg_replace"
   ]
  },
  {
   "cell_type": "markdown",
   "metadata": {},
   "source": [
    "## <u>Requête HTTP</u>\n",
    "### <u>**Structure d'une requête:**</u><br>\n",
    " &nbsp;&nbsp;&nbsp;En-tête + ligne vide + le corps\n",
    "* une ligne comportant trois informations :\n",
    "     * le nom de requête (GET/POST)\n",
    "     * le chemin d'accès à un fichier sur le serveur(' 'remplacé par +)\n",
    "     * le nom du protocole est ça version(optionnels)\n",
    "* plusieur en-têtes\n",
    "     * un nom( majuscule initiale)\n",
    "     * suivi de \":\" et d'un espace après\n",
    "     * valeur de cet en-tête\n",
    "* le corps\n",
    "\n",
    "#### <u>Liste des requêtes HTTP</u>\n",
    "\n",
    "|nom|description|ajouté en 1.1|\n",
    "|:-|:-:|:-|\n",
    "|GET||\n",
    "|HEAD||\n",
    "|POST||\n",
    "|PUT||\n",
    "|DELETE||\n",
    "|OPTIONS||\n",
    "|TRACE||\n",
    "|CONNECT||\n",
    "\n",
    "##### <u>Requête minimale</u>\n",
    "```\n",
    "telnet localhost 80\n",
    "GET /\n",
    "```\n",
    "##### <u>Requête avec en-tête</u>\n",
    "```\n",
    "telnet localhost 80\n",
    "GET / HTTP/1.1\n",
    "Host:127.0.0.1\n",
    "Accept-Language: fr\n",
    "(ligne vide)\n",
    "```\n",
    "#### <u>Réponse HTTP<u>\n",
    "À compléter\n",
    "\n",
    "### <u>Formulaire</u>\n",
    "&nbsp;&nbsp;&nbsp;Les arguments transmis à un serveur HTTP sont souvent issus de formulaires, délimités par un couple de balises form, encadrant les balises de saisies\n",
    "1. identification des saisies à envoyér\n",
    "2. identification des noms des saisies retenues\n",
    "3. encodage des couples retenus( enctype and accept-charset)\n",
    "4. envoi:\n",
    "    * à l'address donnée par l'attribut *action*(celle de l'envoyeur par défaut)\n",
    "    * en méthode POST ou GET par l'attribut *method*\n",
    "    \n",
    "#### <u>Les saisies choisies</u>\n",
    "\n",
    "|balise|fonction|\n",
    "|:-|:-|\n",
    "|textarea|son contenu|\n",
    "|select|l'attribut *value* des balises *option* qu'elle encadre|\n",
    "|radio/checkbox|la valeur de *value*|\n",
    "|file|le contenu du fichier indiqué par *value*|\n",
    "|submit|*value*|\n",
    "|text/passwd/hidden|*value*|\n",
    "\n",
    "#### <u>Formatage des données</u>\n",
    "* si *method*=get, les saisies sont concaténées pour formé la Query-String\n",
    "    * le tableau *super-global*  \\\\$_GET est initialisé avec comme index les nom de QUERY_STRING associés à leur valeur\n",
    "* si *method*=get, les saisies sont envoyées dans le flux entrée\n",
    "    * le tableau *super-global*  \\\\$_POST est initialis2 qvec comme index les noms  trouvés dans le flux d'entrée\n",
    "    \n",
    "### <u>Cookies : HTTP avec état</u>\n",
    "<u>**DEF**</u>:<br>\n",
    "Les *cookies* sont une extension de HTTP simulant une connexion avec état\n",
    "\n",
    "* Le serveur HTTP envois un en-tête Set-Cookie  formé d'une suite de *cookies* sépqrés pqr des virgules, chaque *cookie* étant une suite de couples *variable=valeur* séparé par les points-virgules(le premier couple indique le nom et le contenu)\n"
   ]
  },
  {
   "cell_type": "markdown",
   "metadata": {},
   "source": [
    "## <u>**Les protocoles textuels**</u>\n",
    "### <u>**Les ressources universelles**</u>\n",
    "* URI(Universal Ressource Identifier)\n",
    "&npsb;est un identifiant d'une ressource, qui n'est pas forcément accessible par Internet\n",
    "* URL(Universal Ressource Location)\n",
    "&npsb; est une URI accessible par un protocole d'accès et une adresse Internet\n",
    "* URN(Universal Ressource Name) \n",
    "&npsb;est une URI générique(on n'est pas sur de l'addresse)\n",
    "\n",
    "\n",
    "### <u>SMTP</u>\n",
    "<u>**DEF**</u>:<br>\n",
    "SMTP(Simple Mail Transfert Protocol) est un protocole de communication utilisé pour transférer le courriel vers les serveurs de messagerie électronique. Il est toujours disponible sur le port 25. La conception de ses 5 requête en font un protocole à état\n",
    "\n",
    "### <u>POP</u>\n",
    "<u>**DEF**</u>:<br>\n",
    "POP(Post Office Protocol Version 3)est un protocole qui permet de récupérer les courriers électroniques situés sur un serveur de messagerie électronique\n",
    "#### Critique de POP\n",
    " * Pas de code de retour à 3 chiffres \n",
    " * Pas d'accès simultanés ni concertés par plusieurs cliens(ordinateur et smartphone par exemple)\n",
    " * Pas de prélèvement d'une pièce jointe parmi d'autres\n",
    " * Pas de protection du mot de passe\n",
    " \n",
    "### <u>IMAP</u>\n",
    "<u>**DEF**</u>:<br>\n",
    "IMAP(Interactive Message Access Protocol) est un protocole qui premet d'accéder à ses courriels directement sur les serveurs de messagerie.\n",
    "\n",
    "### <u>XMPP</u>\n",
    "<u>**DEF**</u>:<br>\n",
    "XMPP(Extensible Messaging and Presence Protocol)\n",
    "\n",
    "### <u>FTP</u>\n",
    "<u>**DEF**</u>:<br>\n",
    "FTP(File Transfer Protocol)"
   ]
  },
  {
   "cell_type": "markdown",
   "metadata": {},
   "source": [
    "## XML\n",
    "<u>**DEF**</u>:<br>\n",
    "eXtensible Markup Language简洁\n",
    "* est un méta-language(un langage qui sert à décrire des langages)\n",
    "* ....\n",
    "\n",
    "\n",
    "\n"
   ]
  },
  {
   "cell_type": "code",
   "execution_count": null,
   "metadata": {},
   "outputs": [],
   "source": []
  }
 ],
 "metadata": {
  "kernelspec": {
   "display_name": "PHP",
   "language": "php",
   "name": "jupyter-php"
  },
  "language_info": {
   "file_extension": ".php",
   "mimetype": "text/x-php",
   "name": "PHP",
   "pygments_lexer": "PHP",
   "version": "7.3.8"
  },
  "toc": {
   "base_numbering": 1,
   "nav_menu": {},
   "number_sections": true,
   "sideBar": true,
   "skip_h1_title": false,
   "title_cell": "Table of Contents",
   "title_sidebar": "Contents",
   "toc_cell": false,
   "toc_position": {
    "height": "calc(100% - 180px)",
    "left": "10px",
    "top": "150px",
    "width": "288px"
   },
   "toc_section_display": true,
   "toc_window_display": false
  }
 },
 "nbformat": 4,
 "nbformat_minor": 2
}
