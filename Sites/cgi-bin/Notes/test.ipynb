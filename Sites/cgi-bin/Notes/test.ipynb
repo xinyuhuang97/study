{
 "cells": [
  {
   "cell_type": "markdown",
   "metadata": {},
   "source": [
    "# 这是一级标题。\n",
    "## 这是一个二级标题。\n",
    "这是一些构成段落的纯文本。\n",
    "通过 **粗体** 和 __bold__ ，或 *斜体* 和 _italic_ 添加重点。\n",
    "\n",
    "段落必须用空行隔开。\n",
    "\n",
    "1. *列表也可以编号。*\n",
    "2. *有序列表。*\n",
    "\n",
    "* 有时我们想要包含列表。\n",
    "* 可以缩进。\n",
    "\n",
    "\n",
    "\n",
    "[有可能包括超链接](https://www.example.com)\n",
    "\n",
    "内联代码使用单个倒引号：`foo()`，代码块使用三个倒引号:\n",
    "\n",
    "\\```\n",
    "\\bar()\n",
    "\\```\n",
    "\n",
    "或可由4个空格组成：\n",
    "\n",
    "    foo()\n",
    "\n",
    "最后，添加图片也很简单：![Alt](https://www.example.com/image.jpg)\n"
   ]
  },
  {
   "cell_type": "markdown",
   "metadata": {},
   "source": [
    "# 这又是一个一级标题\n",
    "**粗体** *italique* _下划线_ ~~划掉~~ <u>Underlined</u> \n",
    "$\\overline{数学上划线}$ $\\underline{数学下划线}$\n",
    ">一级引用\n",
    ">>二级引用\n",
    ">>>>>>>>>>N级引用\n",
    ">>>>>>>>>>\n",
    "\n",
    "---\n",
    "分割线\n",
    "***\n",
    "分割线"
   ]
  },
  {
   "cell_type": "markdown",
   "metadata": {},
   "source": [
    "| 我 | 你 | 他 |\n",
    "| :--| :--:| --:|\n",
    "| 帅| s| 酷|\n",
    "| 23| 24| 25|"
   ]
  },
  {
   "cell_type": "code",
   "execution_count": 21,
   "metadata": {
    "scrolled": true
   },
   "outputs": [
    {
     "data": {
      "text/plain": [
       "hi\n"
      ]
     },
     "execution_count": 21,
     "metadata": {},
     "output_type": "execute_result"
    },
    {
     "data": {
      "text/plain": [
       "<!DOCTYPE html PUBLIC '-//W3C//DTD XHTML 1.0 Strict//EN'\n",
       "  'http://www.w3.org/TR/xhtml1/DTD/xhtml1-strict.dtd'>\n",
       "  <html lang='en' xmlns:html='http://www.w3.org/1999/xhtml'>\n",
       "  <head>\n",
       "<meta http-equiv='Content-Type' content='text/html;charset=utf-8'/>\n",
       "  <title>hi</title>\n",
       "</head><form><label name='choix1'>hi</label>\n",
       "<input type='radio' name='choix1' valule='A'></form>\n"
      ]
     },
     "execution_count": 21,
     "metadata": {},
     "output_type": "execute_result"
    }
   ],
   "source": [
    "echo htmlspecialchars(\"hi\");\n",
    "echo \"<!DOCTYPE html PUBLIC '-//W3C//DTD XHTML 1.0 Strict//EN'\n",
    "  'http://www.w3.org/TR/xhtml1/DTD/xhtml1-strict.dtd'>\n",
    "  <html lang='en' xmlns:html='http://www.w3.org/1999/xhtml'>\n",
    "  <head>\n",
    "<meta http-equiv='Content-Type' content='text/html;charset=utf-8'/>\n",
    "  <title>hi</title>\n",
    "</head><form><label name='choix1'>hi</label>\n",
    "<input type='radio' name='choix1' valule='A'></form>\";\n"
   ]
  },
  {
   "cell_type": "code",
   "execution_count": null,
   "metadata": {},
   "outputs": [],
   "source": []
  },
  {
   "cell_type": "code",
   "execution_count": null,
   "metadata": {},
   "outputs": [],
   "source": []
  }
 ],
 "metadata": {
  "celltoolbar": "Tags",
  "kernelspec": {
   "display_name": "PHP",
   "language": "php",
   "name": "jupyter-php"
  },
  "language_info": {
   "file_extension": ".php",
   "mimetype": "text/x-php",
   "name": "PHP",
   "pygments_lexer": "PHP",
   "version": "7.3.8"
  },
  "toc": {
   "base_numbering": 1,
   "nav_menu": {},
   "number_sections": true,
   "sideBar": false,
   "skip_h1_title": false,
   "title_cell": "Table of Contents",
   "title_sidebar": "Contents",
   "toc_cell": false,
   "toc_position": {
    "height": "634px",
    "left": "1152px",
    "top": "54px",
    "width": "288px"
   },
   "toc_section_display": true,
   "toc_window_display": false
  }
 },
 "nbformat": 4,
 "nbformat_minor": 2
}
